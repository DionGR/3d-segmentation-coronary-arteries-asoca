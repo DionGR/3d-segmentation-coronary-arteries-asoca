{
 "cells": [
  {
   "cell_type": "markdown",
   "metadata": {},
   "source": [
    "> TDT4265 - Computer Vision & Deep Learning <br />\n",
    "> Dionysios Rigatos <br />\n",
    "> dionysir@stud.ntnu.no <br />"
   ]
  },
  {
   "cell_type": "markdown",
   "metadata": {},
   "source": [
    "# Submission Creation - ASOCA"
   ]
  },
  {
   "cell_type": "markdown",
   "metadata": {},
   "source": [
    "In this notebook, we will convert the predictions of the model to the submission format required by the competition.\n",
    "\n",
    "Our inferer produces NIFTI files, while the competition requires the submission to be in the form of a NRRD file (or compressed numpy array). We will convert the NIFTI files to NRRD files."
   ]
  },
  {
   "cell_type": "code",
   "execution_count": 1,
   "metadata": {},
   "outputs": [],
   "source": [
    "import nibabel as nib\n",
    "import os \n",
    "import nrrd"
   ]
  },
  {
   "cell_type": "code",
   "execution_count": 2,
   "metadata": {},
   "outputs": [],
   "source": [
    "RAW_PREDS = \"data/preds/out_raw\"\n",
    "SUB_DIR = \"data/preds/out_sub\""
   ]
  },
  {
   "cell_type": "markdown",
   "metadata": {},
   "source": [
    "Need to sort the files so as the for loop later works properly."
   ]
  },
  {
   "cell_type": "code",
   "execution_count": 3,
   "metadata": {},
   "outputs": [
    {
     "data": {
      "text/plain": [
       "['0_seg.nii.gz',\n",
       " '1_seg.nii.gz',\n",
       " '2_seg.nii.gz',\n",
       " '3_seg.nii.gz',\n",
       " '4_seg.nii.gz',\n",
       " '5_seg.nii.gz',\n",
       " '6_seg.nii.gz',\n",
       " '7_seg.nii.gz',\n",
       " '8_seg.nii.gz',\n",
       " '9_seg.nii.gz',\n",
       " '10_seg.nii.gz',\n",
       " '11_seg.nii.gz',\n",
       " '12_seg.nii.gz',\n",
       " '13_seg.nii.gz',\n",
       " '14_seg.nii.gz',\n",
       " '15_seg.nii.gz',\n",
       " '16_seg.nii.gz',\n",
       " '17_seg.nii.gz',\n",
       " '18_seg.nii.gz',\n",
       " '19_seg.nii.gz']"
      ]
     },
     "execution_count": 3,
     "metadata": {},
     "output_type": "execute_result"
    }
   ],
   "source": [
    "raw_files = os.listdir(RAW_PREDS)\n",
    "raw_files = sorted(raw_files, key=lambda x: int(x.split(\"_\")[0]))\n",
    "raw_files"
   ]
  },
  {
   "cell_type": "code",
   "execution_count": 4,
   "metadata": {},
   "outputs": [],
   "source": [
    "for i, nifti in enumerate(raw_files):\n",
    "    nifti_data = nib.load(f\"{RAW_PREDS}/{nifti}\").get_fdata()\n",
    "    nrrd.write(f\"{SUB_DIR}/{i}.nrrd\", nifti_data)"
   ]
  }
 ],
 "metadata": {
  "kernelspec": {
   "display_name": "cv-env",
   "language": "python",
   "name": "python3"
  },
  "language_info": {
   "codemirror_mode": {
    "name": "ipython",
    "version": 3
   },
   "file_extension": ".py",
   "mimetype": "text/x-python",
   "name": "python",
   "nbconvert_exporter": "python",
   "pygments_lexer": "ipython3",
   "version": "3.11.8"
  }
 },
 "nbformat": 4,
 "nbformat_minor": 2
}
